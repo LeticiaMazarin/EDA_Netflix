{
 "cells": [
  {
   "cell_type": "markdown",
   "metadata": {},
   "source": [
    "# Netflix: Exploratory Data Analysis (EDA)\n",
    "\n",
    "por Leticia Molina Mazarin \n",
    "\n",
    "El objetivo de este trabajo es realizar un analisis exploratorio de datos de los títulos de Netflix para comprobar algunas hipótesis de partida. \n",
    "\n",
    "Para ello, se simula un escenario en el que Netflix en España quiere apostar por un nuevo título producido nacionalmente. Piden un estudio para entender la oferta de contenidos que ya existe actualmente en Netflix, los principales países productores, las categorías de películas y series y el público alvo. \n",
    "\n",
    "La hipotesis inicial del equipo en España es que Netflix cuenta con más películas que series porque son más rápidas de producirse pero que la oferta de series viene creciendo en los últimos años. Además, aunque haya más películas, el equipo cree que las series son el tipo de contenido que se hace más viral y que logra conquistar por más tiempo un espacio en los Top 10 semanales. \n",
    "\n",
    "Quieren saber cual sería el mejor mes para estrenar una película basada en un libro de Novela Negra, si hay un día de la semana que es mejor para el lanzamiento (creen que durante el fin de semana) y cual sería la duración media ideal de dicha película (creen que aproximadamente 1 hora y media sería lo ideal).\n",
    "\n",
    "El equipo ha encomendado este analisis para comprobar su hipotesis y finalmente decidir cual será la siguiente producción de Netflix España que logrará relevancia global.\n"
   ]
  },
  {
   "cell_type": "code",
   "execution_count": 1,
   "metadata": {},
   "outputs": [],
   "source": [
    "# Importación de las librerías necesarias para la realización del análisis de los datos\n",
    "\n",
    "from UTILS.functions import *\n",
    "from UTILS.librerias import *"
   ]
  },
  {
   "cell_type": "markdown",
   "metadata": {},
   "source": [
    "## Importación del fichero de datos"
   ]
  },
  {
   "cell_type": "code",
   "execution_count": 2,
   "metadata": {},
   "outputs": [],
   "source": [
    "# Cargamos el fichero con la base de datos que analisaremos\n",
    "\n",
    "df = import_file(path,'netflix_database.csv')\n"
   ]
  },
  {
   "cell_type": "code",
   "execution_count": 3,
   "metadata": {},
   "outputs": [
    {
     "name": "stdout",
     "output_type": "stream",
     "text": [
      "El fichero bruto cuenta con 8806 filas y 12 columnas\n"
     ]
    }
   ],
   "source": [
    "# Miramos las dimensiones de nuestro fichero.\n",
    "\n",
    "print(f'El fichero bruto cuenta con {df.shape[0]} filas y {df.shape[1]} columnas')\n"
   ]
  },
  {
   "cell_type": "code",
   "execution_count": 4,
   "metadata": {},
   "outputs": [
    {
     "data": {
      "text/plain": [
       "show_id               object\n",
       "type                  object\n",
       "title                 object\n",
       "director              object\n",
       "cast                  object\n",
       "production_country    object\n",
       "date_added            object\n",
       "release_year           int64\n",
       "rating                object\n",
       "duration              object\n",
       "description           object\n",
       "listed_in             object\n",
       "dtype: object"
      ]
     },
     "execution_count": 4,
     "metadata": {},
     "output_type": "execute_result"
    }
   ],
   "source": [
    "df.dtypes\n"
   ]
  },
  {
   "cell_type": "markdown",
   "metadata": {},
   "source": [
    "La gran mayoría de los datos son 'object', contamos solamente con una columna de dato 'int', la cual representa el año de lanzamiento del título."
   ]
  },
  {
   "cell_type": "markdown",
   "metadata": {},
   "source": [
    "Esta base de datos contiene la relación de títulos de Netflix hasta septiembre de 2021:\n",
    "\n",
    "- La columna 'show_id' no nos aporta información adicional, se opta por utilizar la columna 'title' y eliminar 'show_id'\n",
    "- La columna 'type' enseña si determinado título es una película o una serie.\n",
    "- La columna 'title' enseña el nombre de la serie o película.\n",
    "- También es posible ver la información sobre el director o directora y el cast.\n",
    "- La columna 'production_country' enseña el país de producción de dicho título.\n",
    "- En la columna 'date_added' es posible ver la fecha en la que determinado título fue añadido a la plataforma de Netflix, mientras que la columna 'release_year' enseña el año en el que ese título tuvo su lanzamiento. Sabemos que hay muchos títulos que ya son originales de Netflix y se lanzan directamente en la plataforma, pero hay algunas películas o series que no son originales de Netflix y tuvieron un lanzamiento antes de entrar en la plataforma. \n",
    "- En la columna 'rating' se puede ver la clasificación etaria de los títulos y tener una idea del público a que se destina determinado título. \n",
    "- La columna 'duración' enseña cuanto tiempo dura una película en minutos y una serie en cantidad de temporadas. \n",
    "- La columna 'listed_in' enseña las categorías de cada título y 'description' nos trae una descripción de la película o serie. \n",
    "\n",
    "De primeras, ya nos damos cuenta de que hay algunos valores nulos (NaN) que deberán ser tratados más adelante.\n",
    "\n",
    "También vemos que a lo mejor hay columnas que no son necesarias para nuestro analisis, como es el caso de show_id."
   ]
  },
  {
   "cell_type": "markdown",
   "metadata": {},
   "source": [
    "## Tratando los datos\n",
    "\n",
    "Después de mirar la base de datos cruda, se plantean algunas preguntas:\n",
    "\n",
    "- ¿Son necesarias todas las variables para trabajar? De primeras se sabe que la columna 'show_id' no aportará nada al analisis y se puede borrarla.\n",
    "- ¿Es necesario tratar alguna variable? Se sabe que hay valores nulos y variables de tiempo que deben tratarse.\n",
    "- ¿Hay valores duplicados?\n",
    "- ¿Debería crearse nuevas variables para ayudar en el analisis?"
   ]
  },
  {
   "cell_type": "markdown",
   "metadata": {},
   "source": [
    "### Valores Nulos"
   ]
  },
  {
   "cell_type": "code",
   "execution_count": 5,
   "metadata": {},
   "outputs": [
    {
     "data": {
      "text/html": [
       "<div>\n",
       "<style scoped>\n",
       "    .dataframe tbody tr th:only-of-type {\n",
       "        vertical-align: middle;\n",
       "    }\n",
       "\n",
       "    .dataframe tbody tr th {\n",
       "        vertical-align: top;\n",
       "    }\n",
       "\n",
       "    .dataframe thead th {\n",
       "        text-align: right;\n",
       "    }\n",
       "</style>\n",
       "<table border=\"1\" class=\"dataframe\">\n",
       "  <thead>\n",
       "    <tr style=\"text-align: right;\">\n",
       "      <th></th>\n",
       "      <th>Total</th>\n",
       "      <th>Percent</th>\n",
       "    </tr>\n",
       "  </thead>\n",
       "  <tbody>\n",
       "    <tr>\n",
       "      <th>director</th>\n",
       "      <td>2634</td>\n",
       "      <td>0.299114</td>\n",
       "    </tr>\n",
       "    <tr>\n",
       "      <th>production_country</th>\n",
       "      <td>826</td>\n",
       "      <td>0.093800</td>\n",
       "    </tr>\n",
       "    <tr>\n",
       "      <th>cast</th>\n",
       "      <td>825</td>\n",
       "      <td>0.093686</td>\n",
       "    </tr>\n",
       "    <tr>\n",
       "      <th>date_added</th>\n",
       "      <td>10</td>\n",
       "      <td>0.001136</td>\n",
       "    </tr>\n",
       "    <tr>\n",
       "      <th>rating</th>\n",
       "      <td>4</td>\n",
       "      <td>0.000454</td>\n",
       "    </tr>\n",
       "    <tr>\n",
       "      <th>duration</th>\n",
       "      <td>3</td>\n",
       "      <td>0.000341</td>\n",
       "    </tr>\n",
       "    <tr>\n",
       "      <th>show_id</th>\n",
       "      <td>0</td>\n",
       "      <td>0.000000</td>\n",
       "    </tr>\n",
       "    <tr>\n",
       "      <th>type</th>\n",
       "      <td>0</td>\n",
       "      <td>0.000000</td>\n",
       "    </tr>\n",
       "    <tr>\n",
       "      <th>title</th>\n",
       "      <td>0</td>\n",
       "      <td>0.000000</td>\n",
       "    </tr>\n",
       "    <tr>\n",
       "      <th>release_year</th>\n",
       "      <td>0</td>\n",
       "      <td>0.000000</td>\n",
       "    </tr>\n",
       "    <tr>\n",
       "      <th>description</th>\n",
       "      <td>0</td>\n",
       "      <td>0.000000</td>\n",
       "    </tr>\n",
       "    <tr>\n",
       "      <th>listed_in</th>\n",
       "      <td>0</td>\n",
       "      <td>0.000000</td>\n",
       "    </tr>\n",
       "  </tbody>\n",
       "</table>\n",
       "</div>"
      ],
      "text/plain": [
       "                    Total   Percent\n",
       "director             2634  0.299114\n",
       "production_country    826  0.093800\n",
       "cast                  825  0.093686\n",
       "date_added             10  0.001136\n",
       "rating                  4  0.000454\n",
       "duration                3  0.000341\n",
       "show_id                 0  0.000000\n",
       "type                    0  0.000000\n",
       "title                   0  0.000000\n",
       "release_year            0  0.000000\n",
       "description             0  0.000000\n",
       "listed_in               0  0.000000"
      ]
     },
     "execution_count": 5,
     "metadata": {},
     "output_type": "execute_result"
    }
   ],
   "source": [
    "# Empezamos mirando si hay valores nulos\n",
    "\n",
    "missing_data(df)"
   ]
  },
  {
   "cell_type": "markdown",
   "metadata": {},
   "source": [
    "- Casi un 30% de los datos no cuenta con la información de director. Como dicha variable no es de gran importancia para el analisis, simplemente se eliminará esa columna. \n",
    "- Para las columnas 'country' y 'cast' se añadirá un texto indicando que no hay información para que dichos títulos se mantengan en el analisis.\n",
    "- Se decide eliminar los títulos sin fecha de lanzamiento, rating y duración porque son pocos datos."
   ]
  },
  {
   "cell_type": "code",
   "execution_count": 6,
   "metadata": {},
   "outputs": [],
   "source": [
    "# Sustituimos los valores nulos por la información 'No Info' u 'Others' en la mayoría de los casos.\n",
    "# La información más importante para este analisis es la de países.\n",
    "\n",
    "df['production_country'].replace(np.nan, 'Others', inplace = True)\n",
    "df['director'].replace(np.nan, 'No info', inplace = True)\n",
    "df['cast'].replace(np.nan, 'No info', inplace = True)\n",
    "\n",
    "# eliminamos columnas que no utilizaré en el analisis: 'show_id' y 'director'\n",
    "df_2 = df.drop([\"show_id\",\"director\"], axis=1)\n",
    "\n",
    "# Seguimos con valores nulos en duration, rating y date_added, pero como son pocos, los eliminaré directamente\n",
    "df_2.dropna(inplace=True)"
   ]
  },
  {
   "cell_type": "code",
   "execution_count": 7,
   "metadata": {},
   "outputs": [
    {
     "name": "stdout",
     "output_type": "stream",
     "text": [
      "<class 'pandas.core.frame.DataFrame'>\n",
      "Int64Index: 8789 entries, 0 to 8805\n",
      "Data columns (total 10 columns):\n",
      " #   Column              Non-Null Count  Dtype \n",
      "---  ------              --------------  ----- \n",
      " 0   type                8789 non-null   object\n",
      " 1   title               8789 non-null   object\n",
      " 2   cast                8789 non-null   object\n",
      " 3   production_country  8789 non-null   object\n",
      " 4   date_added          8789 non-null   object\n",
      " 5   release_year        8789 non-null   int64 \n",
      " 6   rating              8789 non-null   object\n",
      " 7   duration            8789 non-null   object\n",
      " 8   description         8789 non-null   object\n",
      " 9   listed_in           8789 non-null   object\n",
      "dtypes: int64(1), object(9)\n",
      "memory usage: 755.3+ KB\n"
     ]
    }
   ],
   "source": [
    "df_2.info()"
   ]
  },
  {
   "cell_type": "markdown",
   "metadata": {},
   "source": [
    "A partir de ahora pasaremos a utilizar 'df_2', que es el nuevo DataFrame tratado.\n",
    "\n",
    "Vemos que las columnas 'show_id' y 'director' ya no están. Además, podemos ver que ya no hay valores nulos."
   ]
  },
  {
   "cell_type": "markdown",
   "metadata": {},
   "source": [
    "### Datetime - tratando las fechas\n",
    "\n",
    "Las fechas todavía no están del todo correctas.\n",
    "\n",
    "Para tratarlas, primero transformamos 'date_added' en *datetime* porque todavía es un *object*.\n",
    "\n",
    "Después, crearemos cuatro nuevas columnas para poder separar esas fechas en año, mes (nombre y número) y semana."
   ]
  },
  {
   "cell_type": "code",
   "execution_count": 8,
   "metadata": {},
   "outputs": [],
   "source": [
    "df_2[\"date_added\"] = pd.to_datetime(df_2['date_added'])\n",
    "\n",
    "df_2['month_added_name'] = df_2['date_added'].dt.month_name()\n",
    "df_2['week_day'] = df_2['date_added'].dt.day_name()\n",
    "df_2['month_added_number'] = df_2['date_added'].dt.month\n",
    "df_2['year_added'] = df_2['date_added'].dt.year"
   ]
  },
  {
   "cell_type": "markdown",
   "metadata": {},
   "source": [
    "### Tratando la columna 'country'\n",
    "\n",
    "Miramos como es la columna de países para asegurarnos de que solo haya un país por columna. \n",
    "\n",
    "Como muchas producciones se hacen en sociedad con distintos países, vemos que efectivamente hay títulos con más de un país.\n",
    "\n",
    "Decido entonces considerar el primer país que aparece."
   ]
  },
  {
   "cell_type": "code",
   "execution_count": 9,
   "metadata": {},
   "outputs": [
    {
     "data": {
      "text/plain": [
       "1067                      Thailand\n",
       "3063                   South Korea\n",
       "6528                        Turkey\n",
       "2413                         India\n",
       "3496                         India\n",
       "6347                        Canada\n",
       "7137                        Others\n",
       "6624                 United States\n",
       "2759                        Others\n",
       "1834                   South Korea\n",
       "8267                United Kingdom\n",
       "1074                        Others\n",
       "7052                         India\n",
       "3237                        France\n",
       "5659    France, South Korea, Japan\n",
       "Name: production_country, dtype: object"
      ]
     },
     "execution_count": 9,
     "metadata": {},
     "output_type": "execute_result"
    }
   ],
   "source": [
    "df_2['production_country'].sample(15)"
   ]
  },
  {
   "cell_type": "markdown",
   "metadata": {},
   "source": [
    "Para facilitar el analisis, limpiamos esta información para dejar un único país en esa columna. \n",
    "\n",
    "Para ello, creamos una función que considerará el primer país que aparece.\n",
    "\n",
    "Además decidimos qué países limpiar y simplificar:\n",
    "\n",
    "- United States será USA\n",
    "- United Kingdom será UK\n",
    "- South Korea será S.Korea\n",
    "- United Arab Emirates será UAE\n",
    "- Czech Republic será Czechia\n",
    "- West Germany será Germany\n",
    "- Soviet Union será Russia\n",
    "- South Africa será S.Africa"
   ]
  },
  {
   "cell_type": "code",
   "execution_count": 10,
   "metadata": {},
   "outputs": [],
   "source": [
    "clean_country(df_2,'production_country', 'prod_country')\n",
    "    "
   ]
  },
  {
   "cell_type": "code",
   "execution_count": 11,
   "metadata": {},
   "outputs": [
    {
     "data": {
      "text/html": [
       "<div>\n",
       "<style scoped>\n",
       "    .dataframe tbody tr th:only-of-type {\n",
       "        vertical-align: middle;\n",
       "    }\n",
       "\n",
       "    .dataframe tbody tr th {\n",
       "        vertical-align: top;\n",
       "    }\n",
       "\n",
       "    .dataframe thead th {\n",
       "        text-align: right;\n",
       "    }\n",
       "</style>\n",
       "<table border=\"1\" class=\"dataframe\">\n",
       "  <thead>\n",
       "    <tr style=\"text-align: right;\">\n",
       "      <th></th>\n",
       "      <th>type</th>\n",
       "      <th>title</th>\n",
       "      <th>cast</th>\n",
       "      <th>date_added</th>\n",
       "      <th>release_year</th>\n",
       "      <th>rating</th>\n",
       "      <th>duration</th>\n",
       "      <th>description</th>\n",
       "      <th>listed_in</th>\n",
       "      <th>month_added_name</th>\n",
       "      <th>week_day</th>\n",
       "      <th>month_added_number</th>\n",
       "      <th>year_added</th>\n",
       "      <th>prod_country</th>\n",
       "    </tr>\n",
       "  </thead>\n",
       "  <tbody>\n",
       "    <tr>\n",
       "      <th>0</th>\n",
       "      <td>Movie</td>\n",
       "      <td>Dick Johnson Is Dead</td>\n",
       "      <td>No info</td>\n",
       "      <td>2021-09-25</td>\n",
       "      <td>2020</td>\n",
       "      <td>PG-13</td>\n",
       "      <td>90 min</td>\n",
       "      <td>As her father nears the end of his life, filmm...</td>\n",
       "      <td>Documentaries</td>\n",
       "      <td>September</td>\n",
       "      <td>Saturday</td>\n",
       "      <td>9</td>\n",
       "      <td>2021</td>\n",
       "      <td>USA</td>\n",
       "    </tr>\n",
       "    <tr>\n",
       "      <th>1</th>\n",
       "      <td>TV Show</td>\n",
       "      <td>Blood &amp; Water</td>\n",
       "      <td>Ama Qamata, Khosi Ngema, Gail Mabalane, Thaban...</td>\n",
       "      <td>2021-09-24</td>\n",
       "      <td>2021</td>\n",
       "      <td>TV-MA</td>\n",
       "      <td>2 Seasons</td>\n",
       "      <td>After crossing paths at a party, a Cape Town t...</td>\n",
       "      <td>International TV Shows, TV Dramas, TV Mysteries</td>\n",
       "      <td>September</td>\n",
       "      <td>Friday</td>\n",
       "      <td>9</td>\n",
       "      <td>2021</td>\n",
       "      <td>S.Africa</td>\n",
       "    </tr>\n",
       "    <tr>\n",
       "      <th>2</th>\n",
       "      <td>TV Show</td>\n",
       "      <td>Ganglands</td>\n",
       "      <td>Sami Bouajila, Tracy Gotoas, Samuel Jouy, Nabi...</td>\n",
       "      <td>2021-09-24</td>\n",
       "      <td>2021</td>\n",
       "      <td>TV-MA</td>\n",
       "      <td>1 Season</td>\n",
       "      <td>To protect his family from a powerful drug lor...</td>\n",
       "      <td>Crime TV Shows, International TV Shows, TV Act...</td>\n",
       "      <td>September</td>\n",
       "      <td>Friday</td>\n",
       "      <td>9</td>\n",
       "      <td>2021</td>\n",
       "      <td>Others</td>\n",
       "    </tr>\n",
       "    <tr>\n",
       "      <th>3</th>\n",
       "      <td>TV Show</td>\n",
       "      <td>Jailbirds New Orleans</td>\n",
       "      <td>No info</td>\n",
       "      <td>2021-09-24</td>\n",
       "      <td>2021</td>\n",
       "      <td>TV-MA</td>\n",
       "      <td>1 Season</td>\n",
       "      <td>Feuds, flirtations and toilet talk go down amo...</td>\n",
       "      <td>Docuseries, Reality TV</td>\n",
       "      <td>September</td>\n",
       "      <td>Friday</td>\n",
       "      <td>9</td>\n",
       "      <td>2021</td>\n",
       "      <td>Others</td>\n",
       "    </tr>\n",
       "    <tr>\n",
       "      <th>4</th>\n",
       "      <td>TV Show</td>\n",
       "      <td>Kota Factory</td>\n",
       "      <td>Mayur More, Jitendra Kumar, Ranjan Raj, Alam K...</td>\n",
       "      <td>2021-09-24</td>\n",
       "      <td>2021</td>\n",
       "      <td>TV-MA</td>\n",
       "      <td>2 Seasons</td>\n",
       "      <td>In a city of coaching centers known to train I...</td>\n",
       "      <td>International TV Shows, Romantic TV Shows, TV ...</td>\n",
       "      <td>September</td>\n",
       "      <td>Friday</td>\n",
       "      <td>9</td>\n",
       "      <td>2021</td>\n",
       "      <td>India</td>\n",
       "    </tr>\n",
       "  </tbody>\n",
       "</table>\n",
       "</div>"
      ],
      "text/plain": [
       "      type                  title  \\\n",
       "0    Movie   Dick Johnson Is Dead   \n",
       "1  TV Show          Blood & Water   \n",
       "2  TV Show              Ganglands   \n",
       "3  TV Show  Jailbirds New Orleans   \n",
       "4  TV Show           Kota Factory   \n",
       "\n",
       "                                                cast date_added  release_year  \\\n",
       "0                                            No info 2021-09-25          2020   \n",
       "1  Ama Qamata, Khosi Ngema, Gail Mabalane, Thaban... 2021-09-24          2021   \n",
       "2  Sami Bouajila, Tracy Gotoas, Samuel Jouy, Nabi... 2021-09-24          2021   \n",
       "3                                            No info 2021-09-24          2021   \n",
       "4  Mayur More, Jitendra Kumar, Ranjan Raj, Alam K... 2021-09-24          2021   \n",
       "\n",
       "  rating   duration                                        description  \\\n",
       "0  PG-13     90 min  As her father nears the end of his life, filmm...   \n",
       "1  TV-MA  2 Seasons  After crossing paths at a party, a Cape Town t...   \n",
       "2  TV-MA   1 Season  To protect his family from a powerful drug lor...   \n",
       "3  TV-MA   1 Season  Feuds, flirtations and toilet talk go down amo...   \n",
       "4  TV-MA  2 Seasons  In a city of coaching centers known to train I...   \n",
       "\n",
       "                                           listed_in month_added_name  \\\n",
       "0                                      Documentaries        September   \n",
       "1    International TV Shows, TV Dramas, TV Mysteries        September   \n",
       "2  Crime TV Shows, International TV Shows, TV Act...        September   \n",
       "3                             Docuseries, Reality TV        September   \n",
       "4  International TV Shows, Romantic TV Shows, TV ...        September   \n",
       "\n",
       "   week_day  month_added_number  year_added prod_country  \n",
       "0  Saturday                   9        2021          USA  \n",
       "1    Friday                   9        2021     S.Africa  \n",
       "2    Friday                   9        2021       Others  \n",
       "3    Friday                   9        2021       Others  \n",
       "4    Friday                   9        2021        India  "
      ]
     },
     "execution_count": 11,
     "metadata": {},
     "output_type": "execute_result"
    }
   ],
   "source": [
    "df_2.head()"
   ]
  },
  {
   "cell_type": "markdown",
   "metadata": {},
   "source": [
    "### Tratando la columna 'rating'\n",
    "\n",
    "La clasificación etaria todavía es un poco confusa y la simplificaremos para dejar únicamente:\n",
    "\n",
    "- Toddlers\n",
    "- Kids\n",
    "- Teen\n",
    "- Adults\n",
    "\n",
    "De acuerdo con la siguiente página web, podemos considerar:\n",
    "\n",
    "- TV-PG: Kids\n",
    "- TV-MA: Adults\n",
    "- TV-Y7-FV: Kids\n",
    "- TV-Y7: Kids\n",
    "- TV-14: Teens\n",
    "- R: Adults\n",
    "- TV-Y: Toddler\n",
    "- NR: Adults\n",
    "- PG-13: Teens\n",
    "- TV-G: Kids\n",
    "- PG: Kids\n",
    "- G: Kids\n",
    "- UR: Adults\n",
    "- NC-17: Adults"
   ]
  },
  {
   "cell_type": "code",
   "execution_count": 12,
   "metadata": {},
   "outputs": [
    {
     "data": {
      "text/plain": [
       "array(['Teens', 'Adults', 'Kids', 'Toddlers'], dtype=object)"
      ]
     },
     "execution_count": 12,
     "metadata": {},
     "output_type": "execute_result"
    }
   ],
   "source": [
    "rename_rating(df_2,'rating')\n",
    "\n",
    "df_2['rating'].unique()"
   ]
  },
  {
   "cell_type": "markdown",
   "metadata": {},
   "source": [
    "### Tratando la columna 'listed_in'\n",
    "\n",
    "Así como en la columna que representa el país de producción, la columna de categorías 'listed_in' cuenta con más de una categoría por título en Netflix. \n",
    "\n",
    "Sin embargo, a diferencia de lo que se hizo para tratar los países de producción (que se ha considerado el primer país de la lista), aquí hay algunas categorías que no dicen mucho o que son redundantes con otras informaciones. \n",
    "\n",
    "Por ejemplo, si sabemos que un título es producido en España y la primera categoría en la que se encuentra es 'Spanish-Language TV Show', esa categoría es redundante y, a lo mejor, nos interesa más considerar la segunda categoría que aparece.\n",
    "\n",
    "Para ello, separamos la columna 'listed_in' en distintas columnas separadas por la coma."
   ]
  },
  {
   "cell_type": "code",
   "execution_count": 13,
   "metadata": {},
   "outputs": [],
   "source": [
    "clean_categories(df_2,'listed_in', 'category')"
   ]
  },
  {
   "cell_type": "code",
   "execution_count": 14,
   "metadata": {},
   "outputs": [
    {
     "data": {
      "text/html": [
       "<div>\n",
       "<style scoped>\n",
       "    .dataframe tbody tr th:only-of-type {\n",
       "        vertical-align: middle;\n",
       "    }\n",
       "\n",
       "    .dataframe tbody tr th {\n",
       "        vertical-align: top;\n",
       "    }\n",
       "\n",
       "    .dataframe thead th {\n",
       "        text-align: right;\n",
       "    }\n",
       "</style>\n",
       "<table border=\"1\" class=\"dataframe\">\n",
       "  <thead>\n",
       "    <tr style=\"text-align: right;\">\n",
       "      <th></th>\n",
       "      <th>type</th>\n",
       "      <th>title</th>\n",
       "      <th>cast</th>\n",
       "      <th>date_added</th>\n",
       "      <th>release_year</th>\n",
       "      <th>rating</th>\n",
       "      <th>duration</th>\n",
       "      <th>description</th>\n",
       "      <th>listed_in</th>\n",
       "      <th>month_added_name</th>\n",
       "      <th>week_day</th>\n",
       "      <th>month_added_number</th>\n",
       "      <th>year_added</th>\n",
       "      <th>prod_country</th>\n",
       "      <th>category</th>\n",
       "    </tr>\n",
       "  </thead>\n",
       "  <tbody>\n",
       "    <tr>\n",
       "      <th>0</th>\n",
       "      <td>Movie</td>\n",
       "      <td>Dick Johnson Is Dead</td>\n",
       "      <td>No info</td>\n",
       "      <td>2021-09-25</td>\n",
       "      <td>2020</td>\n",
       "      <td>Teens</td>\n",
       "      <td>90 min</td>\n",
       "      <td>As her father nears the end of his life, filmm...</td>\n",
       "      <td>Documentaries</td>\n",
       "      <td>September</td>\n",
       "      <td>Saturday</td>\n",
       "      <td>9</td>\n",
       "      <td>2021</td>\n",
       "      <td>USA</td>\n",
       "      <td>Documentaries</td>\n",
       "    </tr>\n",
       "    <tr>\n",
       "      <th>1</th>\n",
       "      <td>TV Show</td>\n",
       "      <td>Blood &amp; Water</td>\n",
       "      <td>Ama Qamata, Khosi Ngema, Gail Mabalane, Thaban...</td>\n",
       "      <td>2021-09-24</td>\n",
       "      <td>2021</td>\n",
       "      <td>Adults</td>\n",
       "      <td>2 Seasons</td>\n",
       "      <td>After crossing paths at a party, a Cape Town t...</td>\n",
       "      <td>International TV Shows, TV Dramas, TV Mysteries</td>\n",
       "      <td>September</td>\n",
       "      <td>Friday</td>\n",
       "      <td>9</td>\n",
       "      <td>2021</td>\n",
       "      <td>S.Africa</td>\n",
       "      <td>Drama</td>\n",
       "    </tr>\n",
       "    <tr>\n",
       "      <th>2</th>\n",
       "      <td>TV Show</td>\n",
       "      <td>Ganglands</td>\n",
       "      <td>Sami Bouajila, Tracy Gotoas, Samuel Jouy, Nabi...</td>\n",
       "      <td>2021-09-24</td>\n",
       "      <td>2021</td>\n",
       "      <td>Adults</td>\n",
       "      <td>1 Season</td>\n",
       "      <td>To protect his family from a powerful drug lor...</td>\n",
       "      <td>Crime TV Shows, International TV Shows, TV Act...</td>\n",
       "      <td>September</td>\n",
       "      <td>Friday</td>\n",
       "      <td>9</td>\n",
       "      <td>2021</td>\n",
       "      <td>Others</td>\n",
       "      <td>Thriller</td>\n",
       "    </tr>\n",
       "    <tr>\n",
       "      <th>3</th>\n",
       "      <td>TV Show</td>\n",
       "      <td>Jailbirds New Orleans</td>\n",
       "      <td>No info</td>\n",
       "      <td>2021-09-24</td>\n",
       "      <td>2021</td>\n",
       "      <td>Adults</td>\n",
       "      <td>1 Season</td>\n",
       "      <td>Feuds, flirtations and toilet talk go down amo...</td>\n",
       "      <td>Docuseries, Reality TV</td>\n",
       "      <td>September</td>\n",
       "      <td>Friday</td>\n",
       "      <td>9</td>\n",
       "      <td>2021</td>\n",
       "      <td>Others</td>\n",
       "      <td>Documentaries</td>\n",
       "    </tr>\n",
       "    <tr>\n",
       "      <th>4</th>\n",
       "      <td>TV Show</td>\n",
       "      <td>Kota Factory</td>\n",
       "      <td>Mayur More, Jitendra Kumar, Ranjan Raj, Alam K...</td>\n",
       "      <td>2021-09-24</td>\n",
       "      <td>2021</td>\n",
       "      <td>Adults</td>\n",
       "      <td>2 Seasons</td>\n",
       "      <td>In a city of coaching centers known to train I...</td>\n",
       "      <td>International TV Shows, Romantic TV Shows, TV ...</td>\n",
       "      <td>September</td>\n",
       "      <td>Friday</td>\n",
       "      <td>9</td>\n",
       "      <td>2021</td>\n",
       "      <td>India</td>\n",
       "      <td>Romance</td>\n",
       "    </tr>\n",
       "  </tbody>\n",
       "</table>\n",
       "</div>"
      ],
      "text/plain": [
       "      type                  title  \\\n",
       "0    Movie   Dick Johnson Is Dead   \n",
       "1  TV Show          Blood & Water   \n",
       "2  TV Show              Ganglands   \n",
       "3  TV Show  Jailbirds New Orleans   \n",
       "4  TV Show           Kota Factory   \n",
       "\n",
       "                                                cast date_added  release_year  \\\n",
       "0                                            No info 2021-09-25          2020   \n",
       "1  Ama Qamata, Khosi Ngema, Gail Mabalane, Thaban... 2021-09-24          2021   \n",
       "2  Sami Bouajila, Tracy Gotoas, Samuel Jouy, Nabi... 2021-09-24          2021   \n",
       "3                                            No info 2021-09-24          2021   \n",
       "4  Mayur More, Jitendra Kumar, Ranjan Raj, Alam K... 2021-09-24          2021   \n",
       "\n",
       "   rating   duration                                        description  \\\n",
       "0   Teens     90 min  As her father nears the end of his life, filmm...   \n",
       "1  Adults  2 Seasons  After crossing paths at a party, a Cape Town t...   \n",
       "2  Adults   1 Season  To protect his family from a powerful drug lor...   \n",
       "3  Adults   1 Season  Feuds, flirtations and toilet talk go down amo...   \n",
       "4  Adults  2 Seasons  In a city of coaching centers known to train I...   \n",
       "\n",
       "                                           listed_in month_added_name  \\\n",
       "0                                      Documentaries        September   \n",
       "1    International TV Shows, TV Dramas, TV Mysteries        September   \n",
       "2  Crime TV Shows, International TV Shows, TV Act...        September   \n",
       "3                             Docuseries, Reality TV        September   \n",
       "4  International TV Shows, Romantic TV Shows, TV ...        September   \n",
       "\n",
       "   week_day  month_added_number  year_added prod_country       category  \n",
       "0  Saturday                   9        2021          USA  Documentaries  \n",
       "1    Friday                   9        2021     S.Africa          Drama  \n",
       "2    Friday                   9        2021       Others       Thriller  \n",
       "3    Friday                   9        2021       Others  Documentaries  \n",
       "4    Friday                   9        2021        India        Romance  "
      ]
     },
     "execution_count": 14,
     "metadata": {},
     "output_type": "execute_result"
    }
   ],
   "source": [
    "df_2.head()"
   ]
  },
  {
   "cell_type": "code",
   "execution_count": 15,
   "metadata": {},
   "outputs": [],
   "source": [
    "# después de tratar los datos, guardamos ese documento para empezar a analizarlos.\n",
    "df_2.to_csv('/Users/leticiamazarinmolina/Documents/THE_BRIDGE/EDA/EDA_Leticia_Molina/SRC/DATA/df_netflix.csv', index = False)"
   ]
  },
  {
   "cell_type": "markdown",
   "metadata": {},
   "source": [
    "## Analizando los datos\n",
    "\n",
    "Miramos la proporción de tipo de contenidos. \n",
    "\n",
    "¿Hay más películas o series en Netflix?"
   ]
  },
  {
   "cell_type": "code",
   "execution_count": 16,
   "metadata": {},
   "outputs": [],
   "source": [
    "# Cargamos el documento tratado.\n",
    "df_3 = import_file(path,'df_netflix.csv')\n",
    "\n",
    "# Creamos una nueva columna en el dataset que nos servirá de ayuda para crear los gráficos\n",
    "df_3['count'] = 1\n"
   ]
  },
  {
   "cell_type": "markdown",
   "metadata": {},
   "source": [
    "## Evolución de los contenidos a lo largo de los años\n",
    "\n",
    "Sabemos que Netflix se hizo global en el año 2016. ¿Cómo ha evolucionado el ingreso de nuevos contenidos a lo largo de los años?"
   ]
  },
  {
   "cell_type": "code",
   "execution_count": 17,
   "metadata": {},
   "outputs": [
    {
     "data": {
      "image/png": "[encoded data removed]",
      "text/plain": [
       "<Figure size 720x360 with 1 Axes>"
      ]
     },
     "metadata": {
      "needs_background": "dark"
     },
     "output_type": "display_data"
    }
   ],
   "source": [
    "data_year = df_3.groupby('year_added')['count'].sum()\n",
    "\n",
    "bar_graph_1(data_year, 'yearly_content_all',0,2200,250, color_bar='#831010')\n"
   ]
  },
  {
   "cell_type": "markdown",
   "metadata": {},
   "source": [
    "La oferta de contenidos venía creciendo y su tendencia al alza cambió en el año 2020 muy probablemente a causa de la pandemia. Sabemos que muchas producciones tuvieron que paralizarse y muchos estrenos se postergaron al 2021. \n",
    "\n",
    "Es importante acordarse de que la base de datos que tenemos solo cuenta con títulos subidos hasta septiembre del 2021, por lo que dejamos de contar con 4 meses y no podemos afirmar si la oferta de contenidos ha sido mayor o menor en el 2021 que en el 2020. \n",
    "\n",
    "Para ello, creamos un nuevo gráfico considerando solamente la oferta de contenidos hasta septiembre de cada año."
   ]
  },
  {
   "cell_type": "code",
   "execution_count": 18,
   "metadata": {},
   "outputs": [
    {
     "data": {
      "image/png": "[encoded data removed]",
      "text/plain": [
       "<Figure size 720x360 with 1 Axes>"
      ]
     },
     "metadata": {
      "needs_background": "dark"
     },
     "output_type": "display_data"
    }
   ],
   "source": [
    "data_year_tillseptember = df_3[df_3['month_added_number']<=9]\n",
    "\n",
    "data_year_tillseptember_ = data_year_tillseptember.groupby('year_added')['count'].sum()\n",
    "\n",
    "bar_graph_1(data_year_tillseptember_, 'yearly_content_tillseptember', 0, 1750, 250, color_bar='#831010')"
   ]
  },
  {
   "cell_type": "markdown",
   "metadata": {},
   "source": [
    "De hecho, si nos centramos en los títulos añadidos hasta septiembre de cada año, podemos ver que en el 2021 hubo un aumento en la oferta de contenidos dentro de la plataforma (por lo menos hasta septiembre). Mientras que en el año 2020 podemos ver claramente que la tendencia de aumento en la oferta de contenidos ya empieza a caer y podemos concluir que el último quarter del año ha sido el más afectado.\n",
    "\n",
    "Miramos un nuevo gráfico que considera el último quarter de cada año."
   ]
  },
  {
   "cell_type": "code",
   "execution_count": 19,
   "metadata": {},
   "outputs": [
    {
     "data": {
      "image/png": "[encoded data removed]",
      "text/plain": [
       "<Figure size 720x360 with 1 Axes>"
      ]
     },
     "metadata": {
      "needs_background": "dark"
     },
     "output_type": "display_data"
    }
   ],
   "source": [
    "data_year_afterseptember = df_3[df_3['month_added_number']>9]\n",
    "\n",
    "data_year_afterseptember_ = data_year_afterseptember.groupby('year_added')['count'].sum()\n",
    "\n",
    "bar_graph_1(data_year_afterseptember_, 'yearly_content_afterseptember', 0, 800, 150, color_bar='#831010')"
   ]
  },
  {
   "cell_type": "markdown",
   "metadata": {},
   "source": [
    "## Estacionalidad de la oferta de contenidos.\n",
    "\n",
    "Después de mirar la evolución de la oferta de contenidos a lo largo de los años, queremos verificar si hay meses en los que hay más oferta de contenidos que en otros:\n"
   ]
  },
  {
   "cell_type": "code",
   "execution_count": 20,
   "metadata": {},
   "outputs": [
    {
     "data": {
      "image/png": "[encoded data removed]",
      "text/plain": [
       "<Figure size 720x360 with 1 Axes>"
      ]
     },
     "metadata": {
      "needs_background": "dark"
     },
     "output_type": "display_data"
    }
   ],
   "source": [
    "data_month_ = df_3.groupby('month_added_number')['count'].sum()\n",
    "\n",
    "bar_graph_1(data_month_, 'monthly_entries_all', 0, 800, 150, color_bar='#831010')"
   ]
  },
  {
   "cell_type": "markdown",
   "metadata": {},
   "source": [
    "Como nuestros datos no cuentan con los últimos meses de 2021, queremos verificar si la distribución de contenidos por mes vista anteriormente no está siendo afectada por esa falta de datos del último quarter de 2021. \n",
    "\n",
    "Para ello, volvemos a hacer el gráfico pero eliminando directamente el año de 2021:"
   ]
  },
  {
   "cell_type": "code",
   "execution_count": 21,
   "metadata": {},
   "outputs": [
    {
     "data": {
      "image/png": "[encoded data removed]",
      "text/plain": [
       "<Figure size 720x360 with 1 Axes>"
      ]
     },
     "metadata": {
      "needs_background": "dark"
     },
     "output_type": "display_data"
    }
   ],
   "source": [
    "# Desconsiderando el año de 2021 (porque no tenemos datos del año entero)\n",
    "df_offer_month = df_3.loc[\n",
    "    (df_3['year_added'] < 2021),\n",
    "    ['type', 'month_added_number', 'count', 'month_added_name']\n",
    "]\n",
    "data_month = df_offer_month.groupby('month_added_number')['count'].sum()\n",
    "\n",
    "bar_graph_1(data_month, 'monthly_entries_without2021', 0, 800, 150, color_bar='#831010')"
   ]
  },
  {
   "cell_type": "code",
   "execution_count": 22,
   "metadata": {},
   "outputs": [
    {
     "name": "stdout",
     "output_type": "stream",
     "text": [
      "[5.79162403e-37]\n",
      "Rechazamos la hipotesis nula: Sí hay relación entre los meses del año y la oferta de nuevos títulos\n"
     ]
    }
   ],
   "source": [
    "# Confirmamos la relación con un test de hipotesis\n",
    "# Creamos una tabla cruzada\n",
    "monthly_adds = pd.crosstab(df_offer_month['month_added_name'], df_offer_month['count'])\n",
    "\n",
    "# Hacemos el test chi cuadrado\n",
    "data = monthly_adds\n",
    "statistic, pvalue = chisquare(data)\n",
    "\n",
    "print(pvalue)\n",
    "\n",
    "if pvalue > 0.05:\n",
    "    print('Aceptamos la hipotesis nula: No hay relación entre los meses del año y la oferta de nuevos títulos')\n",
    "else: \n",
    "    print('Rechazamos la hipotesis nula: Sí hay relación entre los meses del año y la oferta de nuevos títulos')"
   ]
  },
  {
   "cell_type": "markdown",
   "metadata": {},
   "source": [
    "Si desconsideramos el año de 2021, vemos que efectivamente el último quarter es el que suele ser más representativo en los estrenos, mientras que el mes de febrero es el que menos estrenos tiene. \n",
    "\n",
    "Por otro lado, al considerar los días de la semana, vemos que, diferentemente de lo que se imaginaba, el fin de semana (sábado y domingo) es el momento de la semana que cuenta con menos estrenos mientras que el viernes es disparado el día preferido para los lanzamientos de nuevos títulos. "
   ]
  },
  {
   "cell_type": "code",
   "execution_count": 23,
   "metadata": {},
   "outputs": [
    {
     "data": {
      "image/png": "[encoded data removed]",
      "text/plain": [
       "<Figure size 720x360 with 1 Axes>"
      ]
     },
     "metadata": {
      "needs_background": "dark"
     },
     "output_type": "display_data"
    }
   ],
   "source": [
    "data_week = df_3.groupby('week_day')['count'].sum().sort_values(ascending=False)\n",
    "\n",
    "bar_graph_1(data_week, 'weekly_entries', 0, 2750, 250, color_bar='#831010')\n"
   ]
  },
  {
   "cell_type": "markdown",
   "metadata": {},
   "source": [
    "## Porcentaje de películas vs. series\n",
    "\n",
    "Como ya se suponía, la gran mayoría de contenidos en Netflix son películas."
   ]
  },
  {
   "cell_type": "code",
   "execution_count": 24,
   "metadata": {},
   "outputs": [
    {
     "data": {
      "image/png": "[encoded data removed]",
      "text/plain": [
       "<Figure size 720x216 with 1 Axes>"
      ]
     },
     "metadata": {
      "needs_background": "dark"
     },
     "output_type": "display_data"
    }
   ],
   "source": [
    "plot_distribution(df_3, 'type', 'Movie', 'TV Show', 'distribution')"
   ]
  },
  {
   "cell_type": "markdown",
   "metadata": {},
   "source": [
    "## Principales países productores de contenido en Netflix\n",
    "\n",
    "¿Cuáles son los principales países productores de contenido en Netflix?\n",
    "¿Hay alguno que produzca más series que películas?"
   ]
  },
  {
   "cell_type": "code",
   "execution_count": 75,
   "metadata": {},
   "outputs": [
    {
     "data": {
      "image/png": "[encoded data removed]",
      "text/plain": [
       "<Figure size 720x360 with 1 Axes>"
      ]
     },
     "metadata": {
      "needs_background": "dark"
     },
     "output_type": "display_data"
    }
   ],
   "source": [
    "# Se crea un nuevo DataFrame eliminando 'Others' de la columna 'prod_country' porque no aporta información\n",
    "df_country = df_3.loc[\n",
    "    (df_3['prod_country']!='Others'),\n",
    "    ['prod_country', 'count', 'type', 'rating']\n",
    "]\n",
    "\n",
    "data_country = df_country.groupby('prod_country')['count'].sum().sort_values(ascending=False)[:10]\n",
    "\n",
    "bar_graph_1(data_country, 'prod_countries', 0, 3300, 300, color_bar='#831010')"
   ]
  },
  {
   "cell_type": "code",
   "execution_count": 73,
   "metadata": {},
   "outputs": [
    {
     "name": "stderr",
     "output_type": "stream",
     "text": [
      "/Users/leticiamazarinmolina/Documents/THE_BRIDGE/EDA/EDA_Leticia_Molina/SRC/UTILS/functions.py:297: UserWarning: FixedFormatter should only be used together with FixedLocator\n",
      "  ax.set_yticklabels(data_ratio.index, fontsize=11, color=color_)\n"
     ]
    },
    {
     "data": {
      "image/png": "[encoded data removed]",
      "text/plain": [
       "<Figure size 720x432 with 1 Axes>"
      ]
     },
     "metadata": {},
     "output_type": "display_data"
    }
   ],
   "source": [
    "movie_show_percountry(df_country, 'show_movie_percountry')"
   ]
  },
  {
   "cell_type": "markdown",
   "metadata": {},
   "source": [
    "Concluimos que EEUU es disparado el primer productor de contenidos para Netflix y que más del 70% de estos contenidos son películas. \n",
    "\n",
    "El segundo mayor productor es India y más del 90% de los contenidos son películas.\n",
    "\n",
    "Japón y Corea del Sur son los dos países que producen más series que películas."
   ]
  },
  {
   "cell_type": "markdown",
   "metadata": {},
   "source": [
    "## Rating"
   ]
  },
  {
   "cell_type": "code",
   "execution_count": 77,
   "metadata": {},
   "outputs": [
    {
     "name": "stderr",
     "output_type": "stream",
     "text": [
      "/Users/leticiamazarinmolina/Documents/THE_BRIDGE/EDA/EDA_Leticia_Molina/SRC/UTILS/functions.py:337: UserWarning: FixedFormatter should only be used together with FixedLocator\n",
      "  ax.set_yticklabels(data_ratio_1.index, fontfamily='serif', fontsize=11, color=color_)\n"
     ]
    },
    {
     "data": {
      "image/png": "[encoded data removed]",
      "text/plain": [
       "<Figure size 720x576 with 1 Axes>"
      ]
     },
     "metadata": {
      "needs_background": "dark"
     },
     "output_type": "display_data"
    }
   ],
   "source": [
    "rating_plot(df_country, 'rating_per_country')"
   ]
  },
  {
   "cell_type": "markdown",
   "metadata": {},
   "source": [
    "## Categorías"
   ]
  },
  {
   "cell_type": "code",
   "execution_count": 28,
   "metadata": {},
   "outputs": [
    {
     "data": {
      "image/png": "[encoded data removed]",
      "text/plain": [
       "<Figure size 720x360 with 1 Axes>"
      ]
     },
     "metadata": {
      "needs_background": "dark"
     },
     "output_type": "display_data"
    }
   ],
   "source": [
    "df_movie = df_3.loc[\n",
    "    df_3.type.str.contains('Movie'),\n",
    "    ['title','category','prod_country', 'count']\n",
    "]\n",
    "\n",
    "data_category_1 = df_movie.groupby('category')['count'].sum().sort_values(ascending=False)[:10]\n",
    "\n",
    "bar_graph_1(data_category_1, 'movies_main_categories', 0, 2000, 150, rotation_=50)"
   ]
  },
  {
   "cell_type": "code",
   "execution_count": 29,
   "metadata": {},
   "outputs": [
    {
     "data": {
      "image/png": "[encoded data removed]",
      "text/plain": [
       "<Figure size 720x360 with 1 Axes>"
      ]
     },
     "metadata": {
      "needs_background": "dark"
     },
     "output_type": "display_data"
    }
   ],
   "source": [
    "df_show = df_3.loc[\n",
    "    df_3.type.str.contains('TV Show'),\n",
    "    ['title','category','prod_country','count']\n",
    "]\n",
    "\n",
    "data_category_2 = df_show.groupby('category')['count'].sum().sort_values(ascending=False)[:10]\n",
    "\n",
    "bar_graph_1(data_category_2, 'tvshow_main_categories', 0, 600, 150, rotation_=50, color_bar='grey')"
   ]
  },
  {
   "cell_type": "markdown",
   "metadata": {},
   "source": [
    "Miramos las principales categorías de series y de películas producidas en España:"
   ]
  },
  {
   "cell_type": "code",
   "execution_count": 30,
   "metadata": {},
   "outputs": [
    {
     "data": {
      "image/png": "[encoded data removed]",
      "text/plain": [
       "<Figure size 720x360 with 1 Axes>"
      ]
     },
     "metadata": {
      "needs_background": "dark"
     },
     "output_type": "display_data"
    }
   ],
   "source": [
    "df_categories_spain = df_3.loc[\n",
    "    ((df_3['prod_country']=='Spain') & (df_3['type']=='Movie')),\n",
    "    ['category', 'type', 'count', 'year_added']\n",
    "]\n",
    "\n",
    "data_category_spain = df_categories_spain.groupby('category')['count'].sum().sort_values(ascending=False)[:10]\n",
    "\n",
    "bar_graph_1(data_category_spain, 'spain_movies_main_categories', 0, 60, 10, rotation_=60)"
   ]
  },
  {
   "cell_type": "markdown",
   "metadata": {},
   "source": [
    "## Thrillers\n",
    "\n",
    "Los productores de Netflix España detienen el derecho de producción de película o serie de los libros de Carmen Mola.\n",
    "\n",
    "Como se encajan en el género de Thrillers, quieren mirar más detenidamente información acerca de ese género. "
   ]
  },
  {
   "cell_type": "markdown",
   "metadata": {},
   "source": [
    "Primero miramos si hay alguna estacionalidad para esa categoría.\n",
    "\n",
    "La hipotesis de partida es que contenidos relacionados con los géneros Thriller y Horror tendrán más estrenos en los meses de septiembre y octubre a causa de Halloween. "
   ]
  },
  {
   "cell_type": "code",
   "execution_count": 31,
   "metadata": {},
   "outputs": [
    {
     "data": {
      "image/png": "[encoded data removed]",
      "text/plain": [
       "<Figure size 720x360 with 1 Axes>"
      ]
     },
     "metadata": {
      "needs_background": "dark"
     },
     "output_type": "display_data"
    }
   ],
   "source": [
    "df_thriller = df_3.loc[\n",
    "    ((df_3['year_added']<2021))&((df_3['category']=='Thriller') | (df_3['category']=='Horror')),\n",
    "    ('count', 'month_added_number', 'month_added_name', 'prod_country')\n",
    "    ]\n",
    "# Lo agrupamos\n",
    "data_thriller = df_thriller.groupby('month_added_number')['count'].sum()\n",
    "\n",
    "bar_graph_1(data_thriller, 'monthly_thriller_entries', 0, 100, 20, color_bar='#831010')"
   ]
  },
  {
   "cell_type": "markdown",
   "metadata": {},
   "source": [
    "A simple vista parece que sí hay un aumento en la oferta de thrillers a partir de agosto, pero podría estar simplemente relacionado con el hecho de que la oferta de contenidos en general se sube en el último quarter de los años. \n",
    "\n",
    "Como los números no son muy significativos, hacemos un test de hipotesis para comprobarlo."
   ]
  },
  {
   "cell_type": "code",
   "execution_count": 32,
   "metadata": {},
   "outputs": [
    {
     "name": "stdout",
     "output_type": "stream",
     "text": [
      "[0.25762123]\n",
      "Aceptamos la hipotesis nula: No hay relación entre los meses del año y la oferta de títulos de género Thriller y Horror\n"
     ]
    }
   ],
   "source": [
    "# Creamos una tabla cruzada\n",
    "thrillers = pd.crosstab(df_thriller['month_added_name'], df_thriller['count'])\n",
    "\n",
    "# Hacemos el test chi cuadrado\n",
    "data = thrillers\n",
    "statistic, pvalue = chisquare(data)\n",
    "\n",
    "print(pvalue)\n",
    "\n",
    "if pvalue > 0.05:\n",
    "    print('Aceptamos la hipotesis nula: No hay relación entre los meses del año y la oferta de títulos de género Thriller y Horror')\n",
    "else: \n",
    "    print('Rechazamos la hipotesis nula: Sí hay relación entre los meses del año y la oferta de títulos de género Thriller y Horror')"
   ]
  },
  {
   "cell_type": "markdown",
   "metadata": {},
   "source": [
    "Y concluimos que no hay relación entre los meses y la oferta de títulos de género Thriller y Horror. "
   ]
  },
  {
   "cell_type": "markdown",
   "metadata": {},
   "source": [
    "Ahora miramos más al detalle la oferta de contenidos producidos en España.\n",
    "\n",
    "Ya habíamos visto que la categoría principal es drama, seguida de comédia y thriller en tercer lugar. Sin embargo, si hacemos una tabla cruzada de las categorías de las producciones españolas y el tipo de contenido, vemos que la gran mayoría de series españolas son de la categoría Thriller"
   ]
  },
  {
   "cell_type": "code",
   "execution_count": 33,
   "metadata": {},
   "outputs": [
    {
     "data": {
      "text/html": [
       "<div>\n",
       "<style scoped>\n",
       "    .dataframe tbody tr th:only-of-type {\n",
       "        vertical-align: middle;\n",
       "    }\n",
       "\n",
       "    .dataframe tbody tr th {\n",
       "        vertical-align: top;\n",
       "    }\n",
       "\n",
       "    .dataframe thead th {\n",
       "        text-align: right;\n",
       "    }\n",
       "</style>\n",
       "<table border=\"1\" class=\"dataframe\">\n",
       "  <thead>\n",
       "    <tr style=\"text-align: right;\">\n",
       "      <th>type</th>\n",
       "      <th>Movie</th>\n",
       "    </tr>\n",
       "    <tr>\n",
       "      <th>category</th>\n",
       "      <th></th>\n",
       "    </tr>\n",
       "  </thead>\n",
       "  <tbody>\n",
       "    <tr>\n",
       "      <th>Action &amp; Adventure</th>\n",
       "      <td>6</td>\n",
       "    </tr>\n",
       "    <tr>\n",
       "      <th>Comedy</th>\n",
       "      <td>37</td>\n",
       "    </tr>\n",
       "    <tr>\n",
       "      <th>Documentaries</th>\n",
       "      <td>19</td>\n",
       "    </tr>\n",
       "    <tr>\n",
       "      <th>Drama</th>\n",
       "      <td>43</td>\n",
       "    </tr>\n",
       "    <tr>\n",
       "      <th>Horror</th>\n",
       "      <td>6</td>\n",
       "    </tr>\n",
       "    <tr>\n",
       "      <th>Musical</th>\n",
       "      <td>1</td>\n",
       "    </tr>\n",
       "    <tr>\n",
       "      <th>Other</th>\n",
       "      <td>1</td>\n",
       "    </tr>\n",
       "    <tr>\n",
       "      <th>Sci-Fi &amp; Fantasy</th>\n",
       "      <td>1</td>\n",
       "    </tr>\n",
       "    <tr>\n",
       "      <th>Stand-Up Comedy</th>\n",
       "      <td>1</td>\n",
       "    </tr>\n",
       "    <tr>\n",
       "      <th>Thriller</th>\n",
       "      <td>15</td>\n",
       "    </tr>\n",
       "  </tbody>\n",
       "</table>\n",
       "</div>"
      ],
      "text/plain": [
       "type                Movie\n",
       "category                 \n",
       "Action & Adventure      6\n",
       "Comedy                 37\n",
       "Documentaries          19\n",
       "Drama                  43\n",
       "Horror                  6\n",
       "Musical                 1\n",
       "Other                   1\n",
       "Sci-Fi & Fantasy        1\n",
       "Stand-Up Comedy         1\n",
       "Thriller               15"
      ]
     },
     "execution_count": 33,
     "metadata": {},
     "output_type": "execute_result"
    }
   ],
   "source": [
    "spain = pd.crosstab(df_categories_spain['category'], df_categories_spain['type'])\n",
    "\n",
    "spain"
   ]
  },
  {
   "cell_type": "code",
   "execution_count": 34,
   "metadata": {},
   "outputs": [
    {
     "data": {
      "image/png": "[encoded data removed]",
      "text/plain": [
       "<Figure size 720x360 with 1 Axes>"
      ]
     },
     "metadata": {
      "needs_background": "dark"
     },
     "output_type": "display_data"
    }
   ],
   "source": [
    "df_categories_spain_1 = df_3.loc[\n",
    "    ((df_3['prod_country']=='Spain'))&((df_3['type']=='TV Show')),\n",
    "    ['category', 'type', 'count', 'year_added']\n",
    "]\n",
    "\n",
    "data_category_spain_1 = df_categories_spain_1.groupby('category')['count'].sum().sort_values(ascending=False)[:10]\n",
    "\n",
    "bar_graph_1(data_category_spain_1, 'tv_show_spain_main_categories', 0, 30, 5, rotation_=50, color_bar='grey')"
   ]
  },
  {
   "cell_type": "markdown",
   "metadata": {},
   "source": [
    "## Minutes Peliculas\n",
    "\n",
    "Se hace un rápido estudio de los minutos de las películas. \n",
    "\n",
    "Por el gráfico se puede concluir que la mayoría de las películas tiene una duración de entre 90 y 100 minutos.\n",
    "\n",
    "Entretanto, al hacer el test de normalidad, nos sale que no sigue una distribución normal.\n"
   ]
  },
  {
   "cell_type": "code",
   "execution_count": 35,
   "metadata": {},
   "outputs": [],
   "source": [
    "min_movies = df_3.loc[\n",
    "    (df_3['type'] == 'Movie'),\n",
    "    ['title', 'category', 'count', 'duration']\n",
    "]\n",
    "\n",
    "col_min = min_movies[\"duration\"].str.split(\" \",expand=True)\n",
    "\n",
    "min_movies['duration'] = col_min[0].astype(str).astype(int)"
   ]
  },
  {
   "cell_type": "code",
   "execution_count": 36,
   "metadata": {},
   "outputs": [
    {
     "name": "stdout",
     "output_type": "stream",
     "text": [
      "stat = 49196.59558672838, p = 0.0\n",
      "Rechazamos Hipotesis Nula: Distribución no Normal\n"
     ]
    }
   ],
   "source": [
    "from scipy.stats import chisquare\n",
    "\n",
    "data = min_movies['duration']\n",
    "statistic, pvalue = chisquare(data)\n",
    "\n",
    "print(f'stat = {statistic}, p = {pvalue}')\n",
    "\n",
    "if pvalue > 0.05:\n",
    "    print('Aceptamos Hipotesis Nula: Distribución Normal')\n",
    "else:\n",
    "    print('Rechazamos Hipotesis Nula: Distribución no Normal')"
   ]
  },
  {
   "cell_type": "code",
   "execution_count": 37,
   "metadata": {},
   "outputs": [
    {
     "name": "stdout",
     "output_type": "stream",
     "text": [
      "stat=374.523, p=0.000\n",
      "\n",
      "Rechazamos Hipotesis Nula: Distribución no Normal\n"
     ]
    }
   ],
   "source": [
    "from scipy.stats import normaltest\n",
    "\n",
    "data_2 = min_movies['duration']\n",
    "\n",
    "stat, p = normaltest(data_2)\n",
    "\n",
    "print('stat=%.3f, p=%.3f\\n' % (stat,p))\n",
    "\n",
    "if p > 0.05:\n",
    "    print('Aceptamos Hipotesis Nula: Distribución Normal')\n",
    "else:\n",
    "    print('Rechazamos Hipotesis Nula: Distribución no Normal')"
   ]
  },
  {
   "cell_type": "code",
   "execution_count": 38,
   "metadata": {},
   "outputs": [
    {
     "data": {
      "image/png": "[encoded data removed]",
      "text/plain": [
       "<Figure size 360x360 with 1 Axes>"
      ]
     },
     "metadata": {
      "needs_background": "light"
     },
     "output_type": "display_data"
    }
   ],
   "source": [
    "import seaborn as sns\n",
    "\n",
    "measurements = min_movies['duration']\n",
    "\n",
    "ax = sns.displot(measurements, color='red')"
   ]
  },
  {
   "cell_type": "markdown",
   "metadata": {},
   "source": [
    "## Top 10 título semanales\n",
    "\n",
    "Introducimos una nueva base de datos para analizar los principales títulos que estuvieron en evidencia desde junio de 2021.\n",
    "\n",
    "En esta nueva base de datos tenemos muchos títulos que no están en la primera base analizada porque la primera base solo cuenta con información de títulos subidos hasta septiembre de 2021, pero podremos usarla para complementar las conclusiones que hemos sacado en la primera parte del analisis. \n",
    "\n"
   ]
  },
  {
   "cell_type": "markdown",
   "metadata": {},
   "source": [
    "## Tratando los datos"
   ]
  },
  {
   "cell_type": "code",
   "execution_count": 78,
   "metadata": {},
   "outputs": [],
   "source": [
    "file_topt10 = 'Top_ten_v1.csv'\n",
    "df_top10 = pd.read_csv(path+file_topt10)"
   ]
  },
  {
   "cell_type": "code",
   "execution_count": 79,
   "metadata": {},
   "outputs": [
    {
     "name": "stdout",
     "output_type": "stream",
     "text": [
      "El fichero bruto cuenta con 1603 filas y 8 columnas\n"
     ]
    }
   ],
   "source": [
    "# Miramos las dimensiones de nuestro fichero.\n",
    "\n",
    "print(f'El fichero bruto cuenta con {df_top10.shape[0]} filas y {df_top10.shape[1]} columnas')"
   ]
  },
  {
   "cell_type": "code",
   "execution_count": 80,
   "metadata": {},
   "outputs": [
    {
     "data": {
      "text/plain": [
       "week_                  object\n",
       "type_                  object\n",
       "show_title             object\n",
       "season_title           object\n",
       "weekly_hours_viewed     int64\n",
       "rating_                object\n",
       "category_              object\n",
       "prod_country_          object\n",
       "dtype: object"
      ]
     },
     "execution_count": 80,
     "metadata": {},
     "output_type": "execute_result"
    }
   ],
   "source": [
    "df_top10.dtypes"
   ]
  },
  {
   "cell_type": "code",
   "execution_count": 81,
   "metadata": {},
   "outputs": [],
   "source": [
    "del df_top10['season_title']\n",
    "\n",
    "df_top10['count'] = 1"
   ]
  },
  {
   "cell_type": "code",
   "execution_count": 82,
   "metadata": {},
   "outputs": [
    {
     "data": {
      "text/html": [
       "<div>\n",
       "<style scoped>\n",
       "    .dataframe tbody tr th:only-of-type {\n",
       "        vertical-align: middle;\n",
       "    }\n",
       "\n",
       "    .dataframe tbody tr th {\n",
       "        vertical-align: top;\n",
       "    }\n",
       "\n",
       "    .dataframe thead th {\n",
       "        text-align: right;\n",
       "    }\n",
       "</style>\n",
       "<table border=\"1\" class=\"dataframe\">\n",
       "  <thead>\n",
       "    <tr style=\"text-align: right;\">\n",
       "      <th></th>\n",
       "      <th>Total</th>\n",
       "      <th>Percent</th>\n",
       "    </tr>\n",
       "  </thead>\n",
       "  <tbody>\n",
       "    <tr>\n",
       "      <th>prod_country_</th>\n",
       "      <td>534</td>\n",
       "      <td>0.333125</td>\n",
       "    </tr>\n",
       "    <tr>\n",
       "      <th>rating_</th>\n",
       "      <td>398</td>\n",
       "      <td>0.248284</td>\n",
       "    </tr>\n",
       "    <tr>\n",
       "      <th>category_</th>\n",
       "      <td>398</td>\n",
       "      <td>0.248284</td>\n",
       "    </tr>\n",
       "    <tr>\n",
       "      <th>week_</th>\n",
       "      <td>0</td>\n",
       "      <td>0.000000</td>\n",
       "    </tr>\n",
       "    <tr>\n",
       "      <th>type_</th>\n",
       "      <td>0</td>\n",
       "      <td>0.000000</td>\n",
       "    </tr>\n",
       "    <tr>\n",
       "      <th>show_title</th>\n",
       "      <td>0</td>\n",
       "      <td>0.000000</td>\n",
       "    </tr>\n",
       "    <tr>\n",
       "      <th>weekly_hours_viewed</th>\n",
       "      <td>0</td>\n",
       "      <td>0.000000</td>\n",
       "    </tr>\n",
       "    <tr>\n",
       "      <th>count</th>\n",
       "      <td>0</td>\n",
       "      <td>0.000000</td>\n",
       "    </tr>\n",
       "  </tbody>\n",
       "</table>\n",
       "</div>"
      ],
      "text/plain": [
       "                     Total   Percent\n",
       "prod_country_          534  0.333125\n",
       "rating_                398  0.248284\n",
       "category_              398  0.248284\n",
       "week_                    0  0.000000\n",
       "type_                    0  0.000000\n",
       "show_title               0  0.000000\n",
       "weekly_hours_viewed      0  0.000000\n",
       "count                    0  0.000000"
      ]
     },
     "execution_count": 82,
     "metadata": {},
     "output_type": "execute_result"
    }
   ],
   "source": [
    "missing_data(df_top10)"
   ]
  },
  {
   "cell_type": "code",
   "execution_count": 83,
   "metadata": {},
   "outputs": [],
   "source": [
    "# Seguimos con valores nulos en duration, rating y date_added, pero como son pocos, los eliminaré directamente\n",
    "df_top10.dropna(inplace=True)"
   ]
  },
  {
   "cell_type": "code",
   "execution_count": 84,
   "metadata": {},
   "outputs": [
    {
     "name": "stdout",
     "output_type": "stream",
     "text": [
      "<class 'pandas.core.frame.DataFrame'>\n",
      "Int64Index: 1069 entries, 0 to 1601\n",
      "Data columns (total 8 columns):\n",
      " #   Column               Non-Null Count  Dtype \n",
      "---  ------               --------------  ----- \n",
      " 0   week_                1069 non-null   object\n",
      " 1   type_                1069 non-null   object\n",
      " 2   show_title           1069 non-null   object\n",
      " 3   weekly_hours_viewed  1069 non-null   int64 \n",
      " 4   rating_              1069 non-null   object\n",
      " 5   category_            1069 non-null   object\n",
      " 6   prod_country_        1069 non-null   object\n",
      " 7   count                1069 non-null   int64 \n",
      "dtypes: int64(2), object(6)\n",
      "memory usage: 75.2+ KB\n"
     ]
    }
   ],
   "source": [
    "df_top10.info()"
   ]
  },
  {
   "cell_type": "code",
   "execution_count": 85,
   "metadata": {},
   "outputs": [
    {
     "name": "stderr",
     "output_type": "stream",
     "text": [
      "/var/folders/4s/ssj6hqrx2pd25m6n5s48w37h0000gn/T/ipykernel_2716/2663420745.py:4: FutureWarning: Series.dt.weekofyear and Series.dt.week have been deprecated. Please use Series.dt.isocalendar().week instead.\n",
      "  df_top10['week_number'] = df_top10['week'].dt.week\n"
     ]
    }
   ],
   "source": [
    "df_top10[\"week\"] = pd.to_datetime(df_top10['week_'])\n",
    "\n",
    "df_top10['month_'] = df_top10['week'].dt.month_name()\n",
    "df_top10['week_number'] = df_top10['week'].dt.week\n",
    "df_top10['week_day'] = df_top10['week'].dt.day_name()\n",
    "df_top10['year_'] = df_top10['week'].dt.year"
   ]
  },
  {
   "cell_type": "code",
   "execution_count": 86,
   "metadata": {},
   "outputs": [],
   "source": [
    "del df_top10['week_']"
   ]
  },
  {
   "cell_type": "code",
   "execution_count": 87,
   "metadata": {},
   "outputs": [],
   "source": [
    "clean_country(df_top10,'prod_country_', 'prod_country')"
   ]
  },
  {
   "cell_type": "code",
   "execution_count": 88,
   "metadata": {},
   "outputs": [],
   "source": [
    "rename_rating(df_top10,'rating_')"
   ]
  },
  {
   "cell_type": "code",
   "execution_count": 89,
   "metadata": {},
   "outputs": [],
   "source": [
    "clean_categories(df_top10,'category_', 'category')"
   ]
  },
  {
   "cell_type": "code",
   "execution_count": 91,
   "metadata": {},
   "outputs": [
    {
     "data": {
      "text/plain": [
       "array(['Films (English)', 'Films (Non-English)', 'TV (English)',\n",
       "       'TV (Non-English)'], dtype=object)"
      ]
     },
     "execution_count": 91,
     "metadata": {},
     "output_type": "execute_result"
    }
   ],
   "source": [
    "df_top10['type_'].unique()"
   ]
  },
  {
   "cell_type": "code",
   "execution_count": 92,
   "metadata": {},
   "outputs": [],
   "source": [
    "type_names ={\n",
    "    'Films (English)': 'Movie',\n",
    "    'Films (Non-English)': 'Movie',\n",
    "    'TV (English)': 'TV Show',\n",
    "    'TV (Non-English)': 'TV Show'\n",
    "}\n",
    "\n",
    "df_top10['type_'].replace(type_names, inplace=True)"
   ]
  },
  {
   "cell_type": "code",
   "execution_count": 93,
   "metadata": {},
   "outputs": [
    {
     "data": {
      "text/html": [
       "<div>\n",
       "<style scoped>\n",
       "    .dataframe tbody tr th:only-of-type {\n",
       "        vertical-align: middle;\n",
       "    }\n",
       "\n",
       "    .dataframe tbody tr th {\n",
       "        vertical-align: top;\n",
       "    }\n",
       "\n",
       "    .dataframe thead th {\n",
       "        text-align: right;\n",
       "    }\n",
       "</style>\n",
       "<table border=\"1\" class=\"dataframe\">\n",
       "  <thead>\n",
       "    <tr style=\"text-align: right;\">\n",
       "      <th></th>\n",
       "      <th>type_</th>\n",
       "      <th>show_title</th>\n",
       "      <th>weekly_hours_viewed</th>\n",
       "      <th>rating_</th>\n",
       "      <th>category_</th>\n",
       "      <th>count</th>\n",
       "      <th>week</th>\n",
       "      <th>month_</th>\n",
       "      <th>week_number</th>\n",
       "      <th>week_day</th>\n",
       "      <th>year_</th>\n",
       "      <th>prod_country</th>\n",
       "      <th>category</th>\n",
       "    </tr>\n",
       "  </thead>\n",
       "  <tbody>\n",
       "    <tr>\n",
       "      <th>0</th>\n",
       "      <td>Movie</td>\n",
       "      <td>Choose or Die</td>\n",
       "      <td>15260000</td>\n",
       "      <td>Adults</td>\n",
       "      <td>Thrillers</td>\n",
       "      <td>1</td>\n",
       "      <td>2022-04-24</td>\n",
       "      <td>April</td>\n",
       "      <td>16</td>\n",
       "      <td>Sunday</td>\n",
       "      <td>2022</td>\n",
       "      <td>USA</td>\n",
       "      <td>Thriller</td>\n",
       "    </tr>\n",
       "    <tr>\n",
       "      <th>1</th>\n",
       "      <td>Movie</td>\n",
       "      <td>The In Between</td>\n",
       "      <td>13350000</td>\n",
       "      <td>Teens</td>\n",
       "      <td>Drama, Romance</td>\n",
       "      <td>1</td>\n",
       "      <td>2022-04-24</td>\n",
       "      <td>April</td>\n",
       "      <td>16</td>\n",
       "      <td>Sunday</td>\n",
       "      <td>2022</td>\n",
       "      <td>USA</td>\n",
       "      <td>Drama</td>\n",
       "    </tr>\n",
       "    <tr>\n",
       "      <th>2</th>\n",
       "      <td>Movie</td>\n",
       "      <td>White Hot: The Rise &amp; Fall of Abercrombie &amp; Fitch</td>\n",
       "      <td>9920000</td>\n",
       "      <td>Adults</td>\n",
       "      <td>Documentaries</td>\n",
       "      <td>1</td>\n",
       "      <td>2022-04-24</td>\n",
       "      <td>April</td>\n",
       "      <td>16</td>\n",
       "      <td>Sunday</td>\n",
       "      <td>2022</td>\n",
       "      <td>USA</td>\n",
       "      <td>Documentaries</td>\n",
       "    </tr>\n",
       "    <tr>\n",
       "      <th>3</th>\n",
       "      <td>Movie</td>\n",
       "      <td>How It Ends</td>\n",
       "      <td>8280000</td>\n",
       "      <td>Adults</td>\n",
       "      <td>Action &amp; Adventure, Sci-Fi &amp; Fantasy</td>\n",
       "      <td>1</td>\n",
       "      <td>2022-04-24</td>\n",
       "      <td>April</td>\n",
       "      <td>16</td>\n",
       "      <td>Sunday</td>\n",
       "      <td>2022</td>\n",
       "      <td>USA</td>\n",
       "      <td>Action &amp; Adventure</td>\n",
       "    </tr>\n",
       "    <tr>\n",
       "      <th>4</th>\n",
       "      <td>Movie</td>\n",
       "      <td>Yakuza Princess</td>\n",
       "      <td>7490000</td>\n",
       "      <td>Adults</td>\n",
       "      <td>Sci-Fi &amp; Fantasy, Action &amp; Adventure</td>\n",
       "      <td>1</td>\n",
       "      <td>2022-04-24</td>\n",
       "      <td>April</td>\n",
       "      <td>16</td>\n",
       "      <td>Sunday</td>\n",
       "      <td>2022</td>\n",
       "      <td>Japan</td>\n",
       "      <td>Sci-Fi &amp; Fantasy</td>\n",
       "    </tr>\n",
       "  </tbody>\n",
       "</table>\n",
       "</div>"
      ],
      "text/plain": [
       "   type_                                         show_title  \\\n",
       "0  Movie                                      Choose or Die   \n",
       "1  Movie                                     The In Between   \n",
       "2  Movie  White Hot: The Rise & Fall of Abercrombie & Fitch   \n",
       "3  Movie                                        How It Ends   \n",
       "4  Movie                                    Yakuza Princess   \n",
       "\n",
       "   weekly_hours_viewed rating_                             category_  count  \\\n",
       "0             15260000  Adults                             Thrillers      1   \n",
       "1             13350000   Teens                        Drama, Romance      1   \n",
       "2              9920000  Adults                         Documentaries      1   \n",
       "3              8280000  Adults  Action & Adventure, Sci-Fi & Fantasy      1   \n",
       "4              7490000  Adults  Sci-Fi & Fantasy, Action & Adventure      1   \n",
       "\n",
       "        week month_  week_number week_day  year_ prod_country  \\\n",
       "0 2022-04-24  April           16   Sunday   2022          USA   \n",
       "1 2022-04-24  April           16   Sunday   2022          USA   \n",
       "2 2022-04-24  April           16   Sunday   2022          USA   \n",
       "3 2022-04-24  April           16   Sunday   2022          USA   \n",
       "4 2022-04-24  April           16   Sunday   2022        Japan   \n",
       "\n",
       "             category  \n",
       "0            Thriller  \n",
       "1               Drama  \n",
       "2       Documentaries  \n",
       "3  Action & Adventure  \n",
       "4    Sci-Fi & Fantasy  "
      ]
     },
     "execution_count": 93,
     "metadata": {},
     "output_type": "execute_result"
    }
   ],
   "source": [
    "df_top10.head()"
   ]
  },
  {
   "cell_type": "markdown",
   "metadata": {},
   "source": [
    "## Analizamos los datos de España"
   ]
  },
  {
   "cell_type": "code",
   "execution_count": 121,
   "metadata": {},
   "outputs": [],
   "source": [
    "# Seleccionamos solo los contenidos españoles que estuvieron en los top 10\n",
    "df_spain_top10 = df_top10.loc[\n",
    "    (df_top10['prod_country']=='Spain'),\n",
    "    ['type_', 'show_title', 'rating_', 'category', 'count', 'month_', 'week_number', 'year_']\n",
    "]"
   ]
  },
  {
   "cell_type": "markdown",
   "metadata": {},
   "source": [
    "Vamos que casi un 70% de las veces en las que un contenido de producción española estuvo en los top 10 globales de Netflix, ese contenido era una serie."
   ]
  },
  {
   "cell_type": "code",
   "execution_count": 122,
   "metadata": {},
   "outputs": [
    {
     "data": {
      "image/png": "[encoded data removed]",
      "text/plain": [
       "<Figure size 720x216 with 1 Axes>"
      ]
     },
     "metadata": {
      "needs_background": "dark"
     },
     "output_type": "display_data"
    }
   ],
   "source": [
    "plot_distribution(df_spain_top10, 'type_', 'Movie', 'TV Show', 'popular_spain_distribution')"
   ]
  },
  {
   "cell_type": "markdown",
   "metadata": {},
   "source": [
    "La categoría de producción española que más semanas estuvo en los top 10 globales fue Thriller."
   ]
  },
  {
   "cell_type": "code",
   "execution_count": 116,
   "metadata": {},
   "outputs": [
    {
     "data": {
      "image/png": "[encoded data removed]",
      "text/plain": [
       "<Figure size 720x360 with 1 Axes>"
      ]
     },
     "metadata": {
      "needs_background": "dark"
     },
     "output_type": "display_data"
    }
   ],
   "source": [
    "data_pop_spain_category = df_spain_top10.groupby('category')['count'].sum().sort_values(ascending=False)[:10]\n",
    "\n",
    "bar_graph_1(data_pop_spain_category, 'weekly_top_10_categories', 0, 40, 10, color_bar='#831010')"
   ]
  },
  {
   "cell_type": "code",
   "execution_count": 128,
   "metadata": {},
   "outputs": [
    {
     "data": {
      "image/png": "[encoded data removed]",
      "text/plain": [
       "<Figure size 720x360 with 1 Axes>"
      ]
     },
     "metadata": {
      "needs_background": "dark"
     },
     "output_type": "display_data"
    }
   ],
   "source": [
    "# Aquí podemos ver los 10 principales títulos españoles que estuvieron en la lista de top 10 globales.\n",
    "# La principal producción española sigue siendo La Casa de Papel.\n",
    "\n",
    "data_pop_spain = df_spain_top10.groupby('show_title')['count'].sum().sort_values(ascending=False)[:10]\n",
    "\n",
    "bar_graph_1(data_pop_spain, 'weekly_top_10_spanish_content', 0, 15, 3, color_bar='#831010')"
   ]
  }
 ],
 "metadata": {
  "interpreter": {
   "hash": "bbdf12f5ff899a190361f30644d72d9ae118dfc706ef054eef5855c99dde0a66"
  },
  "kernelspec": {
   "display_name": "Python 3.9.5 ('the_bridge')",
   "language": "python",
   "name": "python3"
  },
  "language_info": {
   "codemirror_mode": {
    "name": "ipython",
    "version": 3
   },
   "file_extension": ".py",
   "mimetype": "text/x-python",
   "name": "python",
   "nbconvert_exporter": "python",
   "pygments_lexer": "ipython3",
   "version": "3.9.5"
  },
  "orig_nbformat": 4
 },
 "nbformat": 4,
 "nbformat_minor": 2
}
